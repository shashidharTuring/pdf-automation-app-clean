{
 "cells": [
  {
   "cell_type": "code",
   "execution_count": 2,
   "id": "823110c3",
   "metadata": {},
   "outputs": [
    {
     "name": "stdout",
     "output_type": "stream",
     "text": [
      "Scanning Drive folder structure...\n",
      "Found 4638 total PDF files.\n",
      "Successfully created CSV with 4638 entries at pdf_catalog.csv\n"
     ]
    }
   ],
   "source": [
    "import pandas as pd\n",
    "from google.oauth2 import service_account\n",
    "from googleapiclient.discovery import build\n",
    "\n",
    "# --- Configuration ---\n",
    "SERVICE_ACCOUNT_FILE = 'turing-genai-ws-58339643dd3f.json'  # Path to your service account JSON\n",
    "FOLDER_ID = '1C384l5Cmm2-4bs8D-4F-6P42d5jwYaKY'  # Your Google Drive folder ID\n",
    "SCOPES = ['https://www.googleapis.com/auth/drive.readonly']\n",
    "\n",
    "# Authenticate\n",
    "credentials = service_account.Credentials.from_service_account_file(\n",
    "    SERVICE_ACCOUNT_FILE, scopes=SCOPES)\n",
    "drive_service = build('drive', 'v3', credentials=credentials)\n",
    "\n",
    "# Recursively traverse folders to find all PDFs\n",
    "def list_all_pdfs_recursive(parent_folder_id, parent_path=\"\"):\n",
    "    output_rows = []\n",
    "\n",
    "    # List all children\n",
    "    query = f\"'{parent_folder_id}' in parents and trashed=false\"\n",
    "    page_token = None\n",
    "    while True:\n",
    "        response = drive_service.files().list(\n",
    "            q=query,\n",
    "            spaces='drive',\n",
    "            fields='nextPageToken, files(id, name, mimeType)',\n",
    "            pageToken=page_token\n",
    "        ).execute()\n",
    "\n",
    "        for file in response.get('files', []):\n",
    "            file_id = file['id']\n",
    "            file_name = file['name']\n",
    "            mime_type = file['mimeType']\n",
    "\n",
    "            if mime_type == 'application/vnd.google-apps.folder':\n",
    "                # Recurse into subfolder\n",
    "                new_path = f\"{parent_path}/{file_name}\" if parent_path else file_name\n",
    "                print(f\"Entering folder: {new_path}\")\n",
    "                output_rows += list_all_pdfs_recursive(file_id, new_path)\n",
    "            elif mime_type == 'application/pdf':\n",
    "                pdf_link = f\"https://drive.google.com/file/d/{file_id}/view?usp=sharing\"\n",
    "                pdf_base_name = file_name.rsplit('.', 1)[0]\n",
    "                output_rows.append({\n",
    "                    \"pdf_name\": pdf_base_name,\n",
    "                    \"pdf_link\": pdf_link\n",
    "                })\n",
    "\n",
    "        page_token = response.get('nextPageToken', None)\n",
    "        if not page_token:\n",
    "            break\n",
    "\n",
    "    return output_rows\n",
    "\n",
    "# --- Run ---\n",
    "print(\"Scanning Drive folder structure...\")\n",
    "all_pdf_entries = list_all_pdfs_recursive(FOLDER_ID)\n",
    "print(f\"Found {len(all_pdf_entries)} total PDF files.\")\n",
    "\n",
    "# Save to CSV with only pdf_name and pdf_link\n",
    "output_df = pd.DataFrame(all_pdf_entries, columns=[\"pdf_name\", \"pdf_link\"])\n",
    "output_csv_path = 'pdf_catalog.csv'\n",
    "output_df.to_csv(output_csv_path, index=False, encoding='utf-8')\n",
    "print(f\"Successfully created CSV with {len(output_df)} entries at {output_csv_path}\")\n"
   ]
  }
 ],
 "metadata": {
  "kernelspec": {
   "display_name": "venv",
   "language": "python",
   "name": "python3"
  },
  "language_info": {
   "codemirror_mode": {
    "name": "ipython",
    "version": 3
   },
   "file_extension": ".py",
   "mimetype": "text/x-python",
   "name": "python",
   "nbconvert_exporter": "python",
   "pygments_lexer": "ipython3",
   "version": "3.13.2"
  }
 },
 "nbformat": 4,
 "nbformat_minor": 5
}
